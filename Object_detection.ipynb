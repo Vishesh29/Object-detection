{
 "cells": [
  {
   "cell_type": "code",
   "execution_count": 1,
   "metadata": {},
   "outputs": [],
   "source": [
    "import cv2"
   ]
  },
  {
   "cell_type": "code",
   "execution_count": null,
   "metadata": {},
   "outputs": [],
   "source": []
  },
  {
   "cell_type": "markdown",
   "metadata": {},
   "source": [
    "# Face Detection"
   ]
  },
  {
   "cell_type": "code",
   "execution_count": null,
   "metadata": {},
   "outputs": [],
   "source": [
    "img=cv2.imread('samples/face.jpg')\n",
    "face_classifier=cv2.CascadeClassifier('Cascades/haarcascade_frontalface_default.xml')\n",
    "\n",
    "gray_img=cv2.cvtColor(img,cv2.COLOR_BGR2GRAY)\n",
    "\n",
    "faces=face_classifier.detectMultiScale(gray_img)            #predict faces\n",
    "\n",
    "for x,y,w,h in faces:\n",
    "    #print(face)\n",
    "    #x=face[0]   y=face[1]       w=face[2]       h=face[3]\n",
    "    \n",
    "    cv2.rectangle(img,(x,y),(x+w,y+h),(0,255,0),2)\n",
    "    cv2.putText(img,'FACE',(x,y-10),cv2.FONT_HERSHEY_SIMPLEX,1,(0,255,0),2)\n",
    "    \n",
    "cv2.imshow('Image',img)\n",
    "cv2.waitKey(0)\n",
    "cv2.destroyAllWindows()    "
   ]
  },
  {
   "cell_type": "code",
   "execution_count": null,
   "metadata": {},
   "outputs": [],
   "source": [
    "#detect a video\n",
    "\n",
    "source=cv2.VideoCapture('samples/facevideo.mp4')         # for webcam give 0\n",
    "\n",
    "while(True):\n",
    "    ret,img=source.read()               #ret=1 when video is available\n",
    "    gray_img=cv2.cvtColor(img,cv2.COLOR_BGR2GRAY)\n",
    "    faces=face_classifier.detectMultiScale(gray_img)\n",
    "    \n",
    "    for x,y,w,h in faces:\n",
    "    #print(face)\n",
    "    #x=face[0]   y=face[1]       w=face[2]       h=face[3]\n",
    "    \n",
    "        cv2.rectangle(img,(x,y),(x+w,y+h),(0,255,0),2)\n",
    "        cv2.putText(img,'FACE',(x,y-10),cv2.FONT_HERSHEY_SIMPLEX,1,(0,255,0),2)\n",
    "    \n",
    "    cv2.imshow('Image',img)\n",
    "    key=cv2.waitKey(1)\n",
    "    \n",
    "    if key==27:\n",
    "        break\n",
    "    \n",
    "cv2.destroyAllWindows() "
   ]
  },
  {
   "cell_type": "markdown",
   "metadata": {},
   "source": [
    "# Eyes Detection"
   ]
  },
  {
   "cell_type": "code",
   "execution_count": null,
   "metadata": {},
   "outputs": [],
   "source": [
    "#detect a video\n",
    "\n",
    "source=cv2.VideoCapture('samples/facevideo.mp4')         # for webcam video ,give 0\n",
    "\n",
    "face_classifier=cv2.CascadeClassifier('Cascades/haarcascade_frontalface_default.xml')\n",
    "eye_classifier=cv2.CascadeClassifier('Cascades/haarcascade_eye_tree_eyeglasses.xml')\n",
    "\n",
    "while(True):\n",
    "    ret,img=source.read()               #ret=1 when video is available\n",
    "    gray_img=cv2.cvtColor(img,cv2.COLOR_BGR2GRAY)\n",
    "    faces=face_classifier.detectMultiScale(gray_img)\n",
    "    \n",
    "    for x,y,w,h in faces:\n",
    "        \n",
    "        cv2.rectangle(img,(x,y),(x+w,y+h),(0,255,0),2)\n",
    "        \n",
    "        face_img=gray_img[y:y+h,x:x+w]   #cropping the face\n",
    "        eyes=eye_classifier.detectMultiScale(face_img)\n",
    "\n",
    "        for (ex,ey,ew,eh) in eyes:\n",
    "\n",
    "            cv2.rectangle(img,(x+ex,y+ey),(x+ex+ew,y+ey+eh),(0,0,255),2)\n",
    "            cv2.putText(img,'Eyes',(x+ex,y+ey-10),cv2.FONT_HERSHEY_SIMPLEX,0.5,(255,0,0),2)\n",
    "    \n",
    "    cv2.imshow('Image',img)\n",
    "    key=cv2.waitKey(1)\n",
    "    \n",
    "    if key==27:\n",
    "        break\n",
    "    \n",
    "cv2.destroyAllWindows() "
   ]
  },
  {
   "cell_type": "markdown",
   "metadata": {},
   "source": [
    "# Vehicle Detection"
   ]
  },
  {
   "cell_type": "code",
   "execution_count": null,
   "metadata": {},
   "outputs": [],
   "source": [
    "bike_source=cv2.VideoCapture('Vehicle Detection and Counting/bikes.mp4')\n",
    "\n",
    "bike_classifier=cv2.CascadeClassifier('Cascades/Vehicle and pedestrain detection/two_wheeler.xml')\n",
    "                                      \n",
    "\n",
    "while(True):                                      # while video ends i.e ret or frames=False\n",
    "    ret,img=bike_source.read()\n",
    "    blur_img=cv2.blur(img,(3,3))     #removing noise\n",
    "    gray_img=cv2.cvtColor(blur_img,cv2.COLOR_BGR2GRAY)\n",
    "    bikes=bike_classifier.detectMultiScale(gray_img)\n",
    "    \n",
    "    for (x,y,w,h) in bikes:\n",
    "    \n",
    "        cv2.rectangle(img,(x,y),(x+w,y+h),(0,255,0),2)\n",
    "        cv2.putText(img,'Bike',(x,y-10),cv2.FONT_HERSHEY_SIMPLEX,1,(0,255,0),2)\n",
    "    \n",
    "    cv2.imshow('Image',img)\n",
    "    key=cv2.waitKey(1)\n",
    "    \n",
    "    if key==27:\n",
    "        break\n",
    "    \n",
    "cv2.destroyAllWindows() \n",
    "    "
   ]
  },
  {
   "cell_type": "markdown",
   "metadata": {},
   "source": [
    "# Counting number of bikes"
   ]
  },
  {
   "cell_type": "code",
   "execution_count": null,
   "metadata": {},
   "outputs": [],
   "source": [
    "bike_source=cv2.VideoCapture('Vehicle Detection and Counting/bikes.mp4')\n",
    "\n",
    "bike_classifier=cv2.CascadeClassifier('Cascades/Vehicle and pedestrain detection/two_wheeler.xml')\n",
    "                                      \n",
    "count=0\n",
    "    \n",
    "while(True):    \n",
    "    ret,img=bike_source.read()\n",
    "    \n",
    "    #making a line to cross for counter of bike\n",
    "    height,width=img.shape[0:2]\n",
    "    cv2.line(img,(0,height-200),(width,height-200),(0,255,255),2)\n",
    "    \n",
    "    blur_img=cv2.blur(img,(3,3))     #removing noise\n",
    "    gray_img=cv2.cvtColor(blur_img,cv2.COLOR_BGR2GRAY)\n",
    "    bikes=bike_classifier.detectMultiScale(gray_img)\n",
    "    \n",
    "    img[0:70,0:width]=[0,0,255]    #making a box where count is printed\n",
    "    for (x,y,w,h) in bikes:\n",
    "    \n",
    "        cv2.rectangle(img,(x,y),(x+w,y+h),(0,255,0),2)\n",
    "        cv2.putText(img,'Bike',(x,y-10),cv2.FONT_HERSHEY_SIMPLEX,1,(0,255,0),2)\n",
    "        \n",
    "        bikeCy= int(y+h/2)     #y y coordinate of bike center\n",
    "        lineCy=height-200\n",
    "        \n",
    "        if (bikeCy>lineCy-6 and bikeCy<lineCy+6):     # when y coordinate of center of bike cross line\n",
    "            \n",
    "            count+=1\n",
    "            cv2.line(img,(0,height-200),(width,height-200),(0,0,255),2)          # if bikes crosses make line red\n",
    "        \n",
    "    cv2.putText(img,\"Bike Count:\"+str(count),(500,50),cv2.FONT_HERSHEY_SIMPLEX,1.5,(0,0,0),2)\n",
    "            \n",
    "    \n",
    "    cv2.imshow('Image',img)\n",
    "    key=cv2.waitKey(1)\n",
    "    \n",
    "    if key==27:\n",
    "        break\n",
    "    \n",
    "cv2.destroyAllWindows() "
   ]
  },
  {
   "cell_type": "markdown",
   "metadata": {},
   "source": [
    "# Detect faces using webcam"
   ]
  },
  {
   "cell_type": "code",
   "execution_count": null,
   "metadata": {},
   "outputs": [],
   "source": [
    "#detect a video\n",
    "\n",
    "cam=cv2.VideoCapture(0)         # for webcam video ,give 0\n",
    "\n",
    "face_classifier=cv2.CascadeClassifier('Cascades/haarcascade_frontalface_default.xml')\n",
    "eye_classifier=cv2.CascadeClassifier('Cascades/haarcascade_eye_tree_eyeglasses.xml')\n",
    "\n",
    "while(True):\n",
    "    ret,img=cam.read()               #ret=1 when video is available\n",
    "    gray_img=cv2.cvtColor(img,cv2.COLOR_BGR2GRAY)\n",
    "    faces=face_classifier.detectMultiScale(gray_img)\n",
    "    \n",
    "    for x,y,w,h in faces:\n",
    "        \n",
    "        cv2.rectangle(img,(x,y),(x+w,y+h),(0,255,0),2)\n",
    "        cv2.putText(img,'Face',(x,y-10),cv2.FONT_HERSHEY_SIMPLEX,1,(0,255,0),2)\n",
    "        \n",
    "        face_img=gray_img[y:y+h,x:x+w]   #cropping the face\n",
    "        eyes=eye_classifier.detectMultiScale(face_img)\n",
    "\n",
    "        for (ex,ey,ew,eh) in eyes:\n",
    "\n",
    "            cv2.rectangle(img,(x+ex,y+ey),(x+ex+ew,y+ey+eh),(0,0,255),2)\n",
    "            cv2.putText(img,'Eyes',(x+ex,y+ey-10),cv2.FONT_HERSHEY_SIMPLEX,0.5,(255,0,0),2)\n",
    "    \n",
    "    cv2.imshow('Image',img)\n",
    "    key=cv2.waitKey(1)\n",
    "    \n",
    "    if key==27:\n",
    "        break\n",
    "    \n",
    "cv2.destroyAllWindows() "
   ]
  }
 ],
 "metadata": {
  "kernelspec": {
   "display_name": "Python 3",
   "language": "python",
   "name": "python3"
  },
  "language_info": {
   "codemirror_mode": {
    "name": "ipython",
    "version": 3
   },
   "file_extension": ".py",
   "mimetype": "text/x-python",
   "name": "python",
   "nbconvert_exporter": "python",
   "pygments_lexer": "ipython3",
   "version": "3.8.3"
  }
 },
 "nbformat": 4,
 "nbformat_minor": 4
}
